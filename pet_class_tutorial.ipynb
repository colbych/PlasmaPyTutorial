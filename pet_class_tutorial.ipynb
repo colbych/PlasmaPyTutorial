{
 "cells": [
  {
   "cell_type": "markdown",
   "metadata": {},
   "source": [
    "# Intorduction to Classes/Object Oriented Programing (in Python!)\n",
    "\n",
    "Here we present a few simple classes to help explain what a class is.\n",
    "\n",
    "Let say we work in a pet hotel and we want to keep track of inforamtion about all the pets currenlty staying in our hotel. Each pet would have differet information say\n",
    "* Name\n",
    "* Species\n",
    "* What Room they are in\n",
    "\n",
    "One Way to store this information would be to have a list for each pet like the following:"
   ]
  },
  {
   "cell_type": "code",
   "execution_count": 4,
   "metadata": {
    "collapsed": true
   },
   "outputs": [],
   "source": [
    "# [Name, Species, Room Number, ect]\n",
    "Pet = [['Frank', 'dog',  'A4'],\n",
    "       ['Kevin', 'cat',  'C1'],\n",
    "       ['Steve', 'fish', 'T3']]"
   ]
  },
  {
   "cell_type": "markdown",
   "metadata": {},
   "source": [
    "Then you could reference the information about the pets by looking at the different indecies of Pet"
   ]
  },
  {
   "cell_type": "code",
   "execution_count": 15,
   "metadata": {
    "collapsed": false
   },
   "outputs": [
    {
     "name": "stdout",
     "output_type": "stream",
     "text": [
      "Pet number 0's is named Frank and is dog and is in room A4\n",
      "Pet number 1's is named Kevin and is cat and is in room C1\n",
      "Pet number 2's is named Steven and is fish and is in room T3\n"
     ]
    }
   ],
   "source": [
    "info_str = \"Pet number {}'s is named {} and is {} and is in room {}\"\n",
    "for c,p in enumerate(Pet):\n",
    "    print(info_str.format(c,p[0],p[1],p[2]))\n",
    "    "
   ]
  },
  {
   "cell_type": "markdown",
   "metadata": {},
   "source": [
    "But this is unintuitive and reqires you to remberer which index is which pet and which index is which quanity. This also leaves very little flexability for chaning the order.\n",
    "\n",
    "We can create our own data structure that is spesificily suited for our pets"
   ]
  },
  {
   "cell_type": "code",
   "execution_count": 21,
   "metadata": {
    "collapsed": true
   },
   "outputs": [],
   "source": [
    "class Pet(object):\n",
    "    \"\"\" A simple class that keeps track of info for a pet\n",
    "    \"\"\"\n",
    "    \n",
    "    def __init__(self, name, species, room_num):\n",
    "        self.name = name\n",
    "        self.species = species\n",
    "        self.room_num = room_num\n",
    "        \n",
    "    def get_name(self):\n",
    "        return self.name        \n",
    "\n",
    "    def get_species(self):\n",
    "        return self.species\n",
    "    \n",
    "    def get_room_num(self):\n",
    "        return self.room_num"
   ]
  },
  {
   "cell_type": "code",
   "execution_count": 26,
   "metadata": {
    "collapsed": false
   },
   "outputs": [
    {
     "name": "stdout",
     "output_type": "stream",
     "text": [
      "Frank is a dog and is in room A4\n",
      "Kevin is a cat and is in room C1\n",
      "Steve is a fish and is in room T3\n"
     ]
    }
   ],
   "source": [
    "Frank = Pet('Frank', 'dog', 'A4')\n",
    "Kevin = Pet('Kevin', 'cat', 'C1')\n",
    "Steve = Pet('Steve', 'fish', 'T3')\n",
    "\n",
    "info_str = \"{} is a {} and is in room {}\"\n",
    "for p in (Frank, Kevin, Steve):\n",
    "    print(info_str.format(p.get_name(), p.get_species(), p.get_room_num()))\n"
   ]
  },
  {
   "cell_type": "code",
   "execution_count": null,
   "metadata": {
    "collapsed": true
   },
   "outputs": [],
   "source": []
  },
  {
   "cell_type": "code",
   "execution_count": null,
   "metadata": {
    "collapsed": true
   },
   "outputs": [],
   "source": []
  },
  {
   "cell_type": "code",
   "execution_count": null,
   "metadata": {
    "collapsed": true
   },
   "outputs": [],
   "source": []
  },
  {
   "cell_type": "code",
   "execution_count": null,
   "metadata": {
    "collapsed": true
   },
   "outputs": [],
   "source": []
  },
  {
   "cell_type": "code",
   "execution_count": null,
   "metadata": {
    "collapsed": true
   },
   "outputs": [],
   "source": []
  },
  {
   "cell_type": "code",
   "execution_count": null,
   "metadata": {
    "collapsed": true
   },
   "outputs": [],
   "source": [
    "class Vector(object):\n",
    "    \"\"\" A simple class for a vector\n",
    "    \"\"\"\n",
    "    \n",
    "    def __init__(self, x, y, z):\n",
    "        self.x = x\n",
    "        self.y = y\n",
    "        self.z = z"
   ]
  }
 ],
 "metadata": {
  "kernelspec": {
   "display_name": "Python 2",
   "language": "python",
   "name": "python2"
  },
  "language_info": {
   "codemirror_mode": {
    "name": "ipython",
    "version": 2
   },
   "file_extension": ".py",
   "mimetype": "text/x-python",
   "name": "python",
   "nbconvert_exporter": "python",
   "pygments_lexer": "ipython2",
   "version": "2.7.10"
  }
 },
 "nbformat": 4,
 "nbformat_minor": 2
}
